{
  "cells": [
    {
      "cell_type": "code",
      "execution_count": null,
      "metadata": {
        "id": "vgwxJyNnBMqD"
      },
      "outputs": [],
      "source": [
        "!pip install google-generativeai -q\n",
        "!pip install --upgrade google-generativeai -q"
      ]
    },
    {
      "cell_type": "code",
      "execution_count": null,
      "metadata": {
        "id": "0DOAhJemBbu9"
      },
      "outputs": [],
      "source": [
        "import google.generativeai as genai\n",
        "from google.colab import userdata\n",
        "import pandas as pd\n",
        "import time\n",
        "import csv\n",
        "pd.set_option('display.max_colwidth', None)"
      ]
    },
    {
      "cell_type": "code",
      "execution_count": null,
      "metadata": {
        "colab": {
          "base_uri": "https://localhost:8080/",
          "height": 414
        },
        "id": "o7NzK5_rTAfQ",
        "outputId": "54378e8d-1f56-4f1f-c8a2-443270ae6b76"
      },
      "outputs": [
        {
          "output_type": "execute_result",
          "data": {
            "text/plain": [
              "                                     Título  Estrelas  \\\n",
              "0                                  Perfeito         5   \n",
              "1                           Sabor impecável         5   \n",
              "2  Ótimo restaurante para ter experiências.         5   \n",
              "3                     Restaurante perfeito!         5   \n",
              "4                         familia em férias         4   \n",
              "\n",
              "                                                                                                                                                                                                                                                                                                                                                         Comentarios  \n",
              "0                                                                                        Restaurante muito perfeito!!! Preço justo, bem servido e comida maravilhosa.  Chegamos logo no horário que abriu e estava vazio, conseguimos escolher mesa e tudo, quando saímos deviam ter umas 30 pessoas aguardando para entrar. O camarão internacional comem 3 pessoas  \n",
              "1  O restaurante é excelente, ambiente lindo, limpo e agradável. Os pratos são muito saborosos, bem servidos e com custo benefício excelente. Na primeira visita comemos o Ceviche de peixe e camarão delicioso e a Lagosta Ponta Negra que estava perfeita. No segundo dia comemos novamente o Ceviche (vale a pena) e o Camarão 294, entradinha super bem servida.  \n",
              "2                                                                                                                                                                                                                                 Excelente lugar para novas experiências com camarões e pratos de carne. Atendimento muito rápido e atencioso! Voltarei mais vezes.  \n",
              "3                                                                                                                                                                        Esse restaurante é o melhor de todos que já fui, custo beneficio ok, e comida surreais de gostosas. A sobremesa naked de ninho ganhou meu coração, já fui 4 vezes e voltaria mais umas mil.  \n",
              "4                                                                                                                                                                                                                                          restaurante muito movimentado, com muitas comemorações. Pratos fartos e gostosos. Bom preço. Staff atencioso e simpático.  "
            ],
            "text/html": [
              "\n",
              "  <div id=\"df-13aa0cac-6507-4a1b-a601-64342d9c6b35\" class=\"colab-df-container\">\n",
              "    <div>\n",
              "<style scoped>\n",
              "    .dataframe tbody tr th:only-of-type {\n",
              "        vertical-align: middle;\n",
              "    }\n",
              "\n",
              "    .dataframe tbody tr th {\n",
              "        vertical-align: top;\n",
              "    }\n",
              "\n",
              "    .dataframe thead th {\n",
              "        text-align: right;\n",
              "    }\n",
              "</style>\n",
              "<table border=\"1\" class=\"dataframe\">\n",
              "  <thead>\n",
              "    <tr style=\"text-align: right;\">\n",
              "      <th></th>\n",
              "      <th>Título</th>\n",
              "      <th>Estrelas</th>\n",
              "      <th>Comentarios</th>\n",
              "    </tr>\n",
              "  </thead>\n",
              "  <tbody>\n",
              "    <tr>\n",
              "      <th>0</th>\n",
              "      <td>Perfeito</td>\n",
              "      <td>5</td>\n",
              "      <td>Restaurante muito perfeito!!! Preço justo, bem servido e comida maravilhosa.  Chegamos logo no horário que abriu e estava vazio, conseguimos escolher mesa e tudo, quando saímos deviam ter umas 30 pessoas aguardando para entrar. O camarão internacional comem 3 pessoas</td>\n",
              "    </tr>\n",
              "    <tr>\n",
              "      <th>1</th>\n",
              "      <td>Sabor impecável</td>\n",
              "      <td>5</td>\n",
              "      <td>O restaurante é excelente, ambiente lindo, limpo e agradável. Os pratos são muito saborosos, bem servidos e com custo benefício excelente. Na primeira visita comemos o Ceviche de peixe e camarão delicioso e a Lagosta Ponta Negra que estava perfeita. No segundo dia comemos novamente o Ceviche (vale a pena) e o Camarão 294, entradinha super bem servida.</td>\n",
              "    </tr>\n",
              "    <tr>\n",
              "      <th>2</th>\n",
              "      <td>Ótimo restaurante para ter experiências.</td>\n",
              "      <td>5</td>\n",
              "      <td>Excelente lugar para novas experiências com camarões e pratos de carne. Atendimento muito rápido e atencioso! Voltarei mais vezes.</td>\n",
              "    </tr>\n",
              "    <tr>\n",
              "      <th>3</th>\n",
              "      <td>Restaurante perfeito!</td>\n",
              "      <td>5</td>\n",
              "      <td>Esse restaurante é o melhor de todos que já fui, custo beneficio ok, e comida surreais de gostosas. A sobremesa naked de ninho ganhou meu coração, já fui 4 vezes e voltaria mais umas mil.</td>\n",
              "    </tr>\n",
              "    <tr>\n",
              "      <th>4</th>\n",
              "      <td>familia em férias</td>\n",
              "      <td>4</td>\n",
              "      <td>restaurante muito movimentado, com muitas comemorações. Pratos fartos e gostosos. Bom preço. Staff atencioso e simpático.</td>\n",
              "    </tr>\n",
              "  </tbody>\n",
              "</table>\n",
              "</div>\n",
              "    <div class=\"colab-df-buttons\">\n",
              "\n",
              "  <div class=\"colab-df-container\">\n",
              "    <button class=\"colab-df-convert\" onclick=\"convertToInteractive('df-13aa0cac-6507-4a1b-a601-64342d9c6b35')\"\n",
              "            title=\"Convert this dataframe to an interactive table.\"\n",
              "            style=\"display:none;\">\n",
              "\n",
              "  <svg xmlns=\"http://www.w3.org/2000/svg\" height=\"24px\" viewBox=\"0 -960 960 960\">\n",
              "    <path d=\"M120-120v-720h720v720H120Zm60-500h600v-160H180v160Zm220 220h160v-160H400v160Zm0 220h160v-160H400v160ZM180-400h160v-160H180v160Zm440 0h160v-160H620v160ZM180-180h160v-160H180v160Zm440 0h160v-160H620v160Z\"/>\n",
              "  </svg>\n",
              "    </button>\n",
              "\n",
              "  <style>\n",
              "    .colab-df-container {\n",
              "      display:flex;\n",
              "      gap: 12px;\n",
              "    }\n",
              "\n",
              "    .colab-df-convert {\n",
              "      background-color: #E8F0FE;\n",
              "      border: none;\n",
              "      border-radius: 50%;\n",
              "      cursor: pointer;\n",
              "      display: none;\n",
              "      fill: #1967D2;\n",
              "      height: 32px;\n",
              "      padding: 0 0 0 0;\n",
              "      width: 32px;\n",
              "    }\n",
              "\n",
              "    .colab-df-convert:hover {\n",
              "      background-color: #E2EBFA;\n",
              "      box-shadow: 0px 1px 2px rgba(60, 64, 67, 0.3), 0px 1px 3px 1px rgba(60, 64, 67, 0.15);\n",
              "      fill: #174EA6;\n",
              "    }\n",
              "\n",
              "    .colab-df-buttons div {\n",
              "      margin-bottom: 4px;\n",
              "    }\n",
              "\n",
              "    [theme=dark] .colab-df-convert {\n",
              "      background-color: #3B4455;\n",
              "      fill: #D2E3FC;\n",
              "    }\n",
              "\n",
              "    [theme=dark] .colab-df-convert:hover {\n",
              "      background-color: #434B5C;\n",
              "      box-shadow: 0px 1px 3px 1px rgba(0, 0, 0, 0.15);\n",
              "      filter: drop-shadow(0px 1px 2px rgba(0, 0, 0, 0.3));\n",
              "      fill: #FFFFFF;\n",
              "    }\n",
              "  </style>\n",
              "\n",
              "    <script>\n",
              "      const buttonEl =\n",
              "        document.querySelector('#df-13aa0cac-6507-4a1b-a601-64342d9c6b35 button.colab-df-convert');\n",
              "      buttonEl.style.display =\n",
              "        google.colab.kernel.accessAllowed ? 'block' : 'none';\n",
              "\n",
              "      async function convertToInteractive(key) {\n",
              "        const element = document.querySelector('#df-13aa0cac-6507-4a1b-a601-64342d9c6b35');\n",
              "        const dataTable =\n",
              "          await google.colab.kernel.invokeFunction('convertToInteractive',\n",
              "                                                    [key], {});\n",
              "        if (!dataTable) return;\n",
              "\n",
              "        const docLinkHtml = 'Like what you see? Visit the ' +\n",
              "          '<a target=\"_blank\" href=https://colab.research.google.com/notebooks/data_table.ipynb>data table notebook</a>'\n",
              "          + ' to learn more about interactive tables.';\n",
              "        element.innerHTML = '';\n",
              "        dataTable['output_type'] = 'display_data';\n",
              "        await google.colab.output.renderOutput(dataTable, element);\n",
              "        const docLink = document.createElement('div');\n",
              "        docLink.innerHTML = docLinkHtml;\n",
              "        element.appendChild(docLink);\n",
              "      }\n",
              "    </script>\n",
              "  </div>\n",
              "\n",
              "\n",
              "<div id=\"df-140af61e-187f-4dea-adb4-034ab98895e1\">\n",
              "  <button class=\"colab-df-quickchart\" onclick=\"quickchart('df-140af61e-187f-4dea-adb4-034ab98895e1')\"\n",
              "            title=\"Suggest charts\"\n",
              "            style=\"display:none;\">\n",
              "\n",
              "<svg xmlns=\"http://www.w3.org/2000/svg\" height=\"24px\"viewBox=\"0 0 24 24\"\n",
              "     width=\"24px\">\n",
              "    <g>\n",
              "        <path d=\"M19 3H5c-1.1 0-2 .9-2 2v14c0 1.1.9 2 2 2h14c1.1 0 2-.9 2-2V5c0-1.1-.9-2-2-2zM9 17H7v-7h2v7zm4 0h-2V7h2v10zm4 0h-2v-4h2v4z\"/>\n",
              "    </g>\n",
              "</svg>\n",
              "  </button>\n",
              "\n",
              "<style>\n",
              "  .colab-df-quickchart {\n",
              "      --bg-color: #E8F0FE;\n",
              "      --fill-color: #1967D2;\n",
              "      --hover-bg-color: #E2EBFA;\n",
              "      --hover-fill-color: #174EA6;\n",
              "      --disabled-fill-color: #AAA;\n",
              "      --disabled-bg-color: #DDD;\n",
              "  }\n",
              "\n",
              "  [theme=dark] .colab-df-quickchart {\n",
              "      --bg-color: #3B4455;\n",
              "      --fill-color: #D2E3FC;\n",
              "      --hover-bg-color: #434B5C;\n",
              "      --hover-fill-color: #FFFFFF;\n",
              "      --disabled-bg-color: #3B4455;\n",
              "      --disabled-fill-color: #666;\n",
              "  }\n",
              "\n",
              "  .colab-df-quickchart {\n",
              "    background-color: var(--bg-color);\n",
              "    border: none;\n",
              "    border-radius: 50%;\n",
              "    cursor: pointer;\n",
              "    display: none;\n",
              "    fill: var(--fill-color);\n",
              "    height: 32px;\n",
              "    padding: 0;\n",
              "    width: 32px;\n",
              "  }\n",
              "\n",
              "  .colab-df-quickchart:hover {\n",
              "    background-color: var(--hover-bg-color);\n",
              "    box-shadow: 0 1px 2px rgba(60, 64, 67, 0.3), 0 1px 3px 1px rgba(60, 64, 67, 0.15);\n",
              "    fill: var(--button-hover-fill-color);\n",
              "  }\n",
              "\n",
              "  .colab-df-quickchart-complete:disabled,\n",
              "  .colab-df-quickchart-complete:disabled:hover {\n",
              "    background-color: var(--disabled-bg-color);\n",
              "    fill: var(--disabled-fill-color);\n",
              "    box-shadow: none;\n",
              "  }\n",
              "\n",
              "  .colab-df-spinner {\n",
              "    border: 2px solid var(--fill-color);\n",
              "    border-color: transparent;\n",
              "    border-bottom-color: var(--fill-color);\n",
              "    animation:\n",
              "      spin 1s steps(1) infinite;\n",
              "  }\n",
              "\n",
              "  @keyframes spin {\n",
              "    0% {\n",
              "      border-color: transparent;\n",
              "      border-bottom-color: var(--fill-color);\n",
              "      border-left-color: var(--fill-color);\n",
              "    }\n",
              "    20% {\n",
              "      border-color: transparent;\n",
              "      border-left-color: var(--fill-color);\n",
              "      border-top-color: var(--fill-color);\n",
              "    }\n",
              "    30% {\n",
              "      border-color: transparent;\n",
              "      border-left-color: var(--fill-color);\n",
              "      border-top-color: var(--fill-color);\n",
              "      border-right-color: var(--fill-color);\n",
              "    }\n",
              "    40% {\n",
              "      border-color: transparent;\n",
              "      border-right-color: var(--fill-color);\n",
              "      border-top-color: var(--fill-color);\n",
              "    }\n",
              "    60% {\n",
              "      border-color: transparent;\n",
              "      border-right-color: var(--fill-color);\n",
              "    }\n",
              "    80% {\n",
              "      border-color: transparent;\n",
              "      border-right-color: var(--fill-color);\n",
              "      border-bottom-color: var(--fill-color);\n",
              "    }\n",
              "    90% {\n",
              "      border-color: transparent;\n",
              "      border-bottom-color: var(--fill-color);\n",
              "    }\n",
              "  }\n",
              "</style>\n",
              "\n",
              "  <script>\n",
              "    async function quickchart(key) {\n",
              "      const quickchartButtonEl =\n",
              "        document.querySelector('#' + key + ' button');\n",
              "      quickchartButtonEl.disabled = true;  // To prevent multiple clicks.\n",
              "      quickchartButtonEl.classList.add('colab-df-spinner');\n",
              "      try {\n",
              "        const charts = await google.colab.kernel.invokeFunction(\n",
              "            'suggestCharts', [key], {});\n",
              "      } catch (error) {\n",
              "        console.error('Error during call to suggestCharts:', error);\n",
              "      }\n",
              "      quickchartButtonEl.classList.remove('colab-df-spinner');\n",
              "      quickchartButtonEl.classList.add('colab-df-quickchart-complete');\n",
              "    }\n",
              "    (() => {\n",
              "      let quickchartButtonEl =\n",
              "        document.querySelector('#df-140af61e-187f-4dea-adb4-034ab98895e1 button');\n",
              "      quickchartButtonEl.style.display =\n",
              "        google.colab.kernel.accessAllowed ? 'block' : 'none';\n",
              "    })();\n",
              "  </script>\n",
              "</div>\n",
              "\n",
              "    </div>\n",
              "  </div>\n"
            ],
            "application/vnd.google.colaboratory.intrinsic+json": {
              "type": "dataframe",
              "variable_name": "df",
              "summary": "{\n  \"name\": \"df\",\n  \"rows\": 16387,\n  \"fields\": [\n    {\n      \"column\": \"T\\u00edtulo\",\n      \"properties\": {\n        \"dtype\": \"category\",\n        \"num_unique_values\": 7855,\n        \"samples\": [\n          \"Otima  refei\\u00e7\\u00e3o!\",\n          \"O melhor camar\\u00e3o do rio grande do norte\",\n          \"MELHOR REST DE NATAL\"\n        ],\n        \"semantic_type\": \"\",\n        \"description\": \"\"\n      }\n    },\n    {\n      \"column\": \"Estrelas\",\n      \"properties\": {\n        \"dtype\": \"number\",\n        \"std\": 0,\n        \"min\": 1,\n        \"max\": 5,\n        \"num_unique_values\": 5,\n        \"samples\": [\n          4,\n          2,\n          3\n        ],\n        \"semantic_type\": \"\",\n        \"description\": \"\"\n      }\n    },\n    {\n      \"column\": \"Comentarios\",\n      \"properties\": {\n        \"dtype\": \"string\",\n        \"num_unique_values\": 16384,\n        \"samples\": [\n          \"Simplesmente divinoooo!!!! Gente, card\\u00e1pio espetacular!! Voc\\u00ea vai ficar na d\\u00favida de qual das maravilhas pedir, kkkk. Acabei indo jantar na minha \\u00faltima noite em Natal, o que me arrependo demais. Programe para ir no inicio da viajem, pois com certeza ir\\u00e1 querer voltar! Comida e atendimento de primeira qualidade. Pre\\u00e7os elevados como tudo em Natal, mas o valor da minha conta foi abaixo de outros lugares na cidade e com qualidade bem inferior.\",\n          \"Restaurante com \\u00f3timo atendimento, pre\\u00e7o justo, e qualidade sem igual. Uma variedade de pratos e muito bem servido. Vale a pena conhecer.\",\n          \"Restaurante excelente, muito top! atendimento muito bom, muitas op\\u00e7\\u00f5es no cardapio, comida excelente. o unico porem sao as filas, mas rola de ir tomando uma cerveja enquanto nao chega sua vez. TOP!\"\n        ],\n        \"semantic_type\": \"\",\n        \"description\": \"\"\n      }\n    }\n  ]\n}"
            }
          },
          "metadata": {},
          "execution_count": 86
        }
      ],
      "source": [
        "df = pd.read_csv(\"/content/drive/MyDrive/Machine Learning Project/csv_folder/camaroes.csv\")\n",
        "df.head()"
      ]
    },
    {
      "cell_type": "code",
      "execution_count": null,
      "metadata": {
        "id": "rB0o8iST3ViR"
      },
      "outputs": [],
      "source": [
        "GOOGLE_GEMINI_API_KEY = userdata.get('GOOGLE_GEMINI_API_KEY')\n",
        "\n",
        "genai.configure(api_key = GOOGLE_GEMINI_API_KEY)"
      ]
    },
    {
      "cell_type": "code",
      "execution_count": null,
      "metadata": {
        "colab": {
          "base_uri": "https://localhost:8080/",
          "height": 642
        },
        "id": "SzY0hPst_Fj8",
        "outputId": "15d923e7-314b-4ae2-9d86-55dc739df3bc"
      },
      "outputs": [
        {
          "output_type": "stream",
          "name": "stdout",
          "text": [
            "models/chat-bison-001\n",
            "models/text-bison-001\n",
            "models/embedding-gecko-001\n",
            "models/gemini-1.0-pro-latest\n",
            "models/gemini-1.0-pro\n",
            "models/gemini-pro\n",
            "models/gemini-1.0-pro-001\n",
            "models/gemini-1.0-pro-vision-latest\n",
            "models/gemini-pro-vision\n",
            "models/gemini-1.5-pro-latest\n",
            "models/gemini-1.5-pro-001\n",
            "models/gemini-1.5-pro-002\n",
            "models/gemini-1.5-pro\n",
            "models/gemini-1.5-pro-exp-0801\n",
            "models/gemini-1.5-pro-exp-0827\n",
            "models/gemini-1.5-flash-latest\n",
            "models/gemini-1.5-flash-001\n",
            "models/gemini-1.5-flash-001-tuning\n",
            "models/gemini-1.5-flash\n",
            "models/gemini-1.5-flash-exp-0827\n",
            "models/gemini-1.5-flash-002\n",
            "models/gemini-1.5-flash-8b\n",
            "models/gemini-1.5-flash-8b-001\n",
            "models/gemini-1.5-flash-8b-latest\n",
            "models/gemini-1.5-flash-8b-exp-0827\n",
            "models/gemini-1.5-flash-8b-exp-0924\n",
            "models/gemini-2.0-flash-exp\n",
            "models/gemini-exp-1206\n",
            "models/gemini-exp-1121\n",
            "models/gemini-exp-1114\n",
            "models/gemini-2.0-flash-thinking-exp\n",
            "models/gemini-2.0-flash-thinking-exp-1219\n",
            "models/learnlm-1.5-pro-experimental\n",
            "models/embedding-001\n",
            "models/text-embedding-004\n",
            "models/aqa\n"
          ]
        }
      ],
      "source": [
        "available_models = genai.list_models()\n",
        "for model in available_models:\n",
        "    print(model.name)"
      ]
    },
    {
      "cell_type": "code",
      "execution_count": null,
      "metadata": {
        "id": "caOaO--1Dudh"
      },
      "outputs": [],
      "source": [
        "model = genai.GenerativeModel(\"gemini-1.5-pro-latest\")"
      ]
    },
    {
      "cell_type": "code",
      "execution_count": null,
      "metadata": {
        "colab": {
          "base_uri": "https://localhost:8080/",
          "height": 35
        },
        "id": "vZvoyq0TESlu",
        "outputId": "5c156354-8300-499d-f50a-a71f7cd8b703"
      },
      "outputs": [
        {
          "output_type": "execute_result",
          "data": {
            "text/plain": [
              "'Olá! Como posso ajudar você hoje?\\n'"
            ],
            "application/vnd.google.colaboratory.intrinsic+json": {
              "type": "string"
            }
          },
          "metadata": {},
          "execution_count": 90
        }
      ],
      "source": [
        "response = model.generate_content(\"olá\")\n",
        "response.text"
      ]
    },
    {
      "cell_type": "code",
      "execution_count": null,
      "metadata": {
        "id": "nWWhuf__Z_h8"
      },
      "outputs": [],
      "source": [
        "chat = model.start_chat(history=[])"
      ]
    },
    {
      "cell_type": "code",
      "execution_count": null,
      "metadata": {
        "colab": {
          "base_uri": "https://localhost:8080/"
        },
        "id": "nlXmrpuk5LH0",
        "outputId": "b617f220-c7a1-4031-d4e1-816d0c8549f3"
      },
      "outputs": [
        {
          "name": "stdout",
          "output_type": "stream",
          "text": [
            "Escolha um intervalo de 50 comentários, dentre 16387 comentários, para o Gemini analisar:\n",
            "Início: 1\n",
            "Fim: 51\n"
          ]
        }
      ],
      "source": [
        "print(f\"Escolha um intervalo de 50 comentários, dentre {len(df)} comentários, para o Gemini analisar:\")\n",
        "\n",
        "a = 1\n",
        "b = 0\n",
        "max = 50\n",
        "while int(a)>int(b) or int(a)<0 or int(b)>len(df) or int(b)-int(a)>max:\n",
        "    a = input(\"Início: \")\n",
        "    b = input(\"Fim: \")\n",
        "    if not a.isnumeric() or not b.isnumeric():\n",
        "        print(\"Intervalo inválido, digite novamente. Apenas números são permitidos.\")\n",
        "        a = 1\n",
        "        b = 0\n",
        "    elif int(a)>int(b) or int(a)<0 or int(b)>len(df):\n",
        "        print(\"Intervalo inválido, digite novamente\")\n",
        "    elif int(b)-int(a)>max:\n",
        "        print(\"Intervalo muito grande, digite novamente\")"
      ]
    },
    {
      "cell_type": "code",
      "execution_count": null,
      "metadata": {
        "id": "-6tLLTbyDVNc"
      },
      "outputs": [],
      "source": [
        "dados = df.iloc[int(a):int(b)][\"Comentarios\"]"
      ]
    },
    {
      "cell_type": "code",
      "execution_count": null,
      "metadata": {
        "colab": {
          "base_uri": "https://localhost:8080/",
          "height": 380
        },
        "id": "ZGxbApRB8XB8",
        "outputId": "09ea2573-e50d-4378-b751-b2b4ab744149"
      },
      "outputs": [
        {
          "output_type": "execute_result",
          "data": {
            "text/plain": [
              "1    O restaurante é excelente, ambiente lindo, limpo e agradável. Os pratos são muito saborosos, bem servidos e com custo benefício excelente. Na primeira visita comemos o Ceviche de peixe e camarão delicioso e a Lagosta Ponta Negra que estava perfeita. No segundo dia comemos novamente o Ceviche (vale a pena) e o Camarão 294, entradinha super bem servida.\n",
              "2                                                                                                                                                                                                                                   Excelente lugar para novas experiências com camarões e pratos de carne. Atendimento muito rápido e atencioso! Voltarei mais vezes.\n",
              "3                                                                                                                                                                          Esse restaurante é o melhor de todos que já fui, custo beneficio ok, e comida surreais de gostosas. A sobremesa naked de ninho ganhou meu coração, já fui 4 vezes e voltaria mais umas mil.\n",
              "4                                                                                                                                                                                                                                            restaurante muito movimentado, com muitas comemorações. Pratos fartos e gostosos. Bom preço. Staff atencioso e simpático.\n",
              "5                                                                                                                        Pela décima primeira vez que vou a Natal, provavelmente é a centésima vez que frequento o restaurante e continua com a mesma excelência ! Funcionários atenciosos, comida extremamente saborosa, preço mais do que justo ! Estão de parabéns!\n",
              "Name: Comentarios, dtype: object"
            ],
            "text/html": [
              "<div>\n",
              "<style scoped>\n",
              "    .dataframe tbody tr th:only-of-type {\n",
              "        vertical-align: middle;\n",
              "    }\n",
              "\n",
              "    .dataframe tbody tr th {\n",
              "        vertical-align: top;\n",
              "    }\n",
              "\n",
              "    .dataframe thead th {\n",
              "        text-align: right;\n",
              "    }\n",
              "</style>\n",
              "<table border=\"1\" class=\"dataframe\">\n",
              "  <thead>\n",
              "    <tr style=\"text-align: right;\">\n",
              "      <th></th>\n",
              "      <th>Comentarios</th>\n",
              "    </tr>\n",
              "  </thead>\n",
              "  <tbody>\n",
              "    <tr>\n",
              "      <th>1</th>\n",
              "      <td>O restaurante é excelente, ambiente lindo, limpo e agradável. Os pratos são muito saborosos, bem servidos e com custo benefício excelente. Na primeira visita comemos o Ceviche de peixe e camarão delicioso e a Lagosta Ponta Negra que estava perfeita. No segundo dia comemos novamente o Ceviche (vale a pena) e o Camarão 294, entradinha super bem servida.</td>\n",
              "    </tr>\n",
              "    <tr>\n",
              "      <th>2</th>\n",
              "      <td>Excelente lugar para novas experiências com camarões e pratos de carne. Atendimento muito rápido e atencioso! Voltarei mais vezes.</td>\n",
              "    </tr>\n",
              "    <tr>\n",
              "      <th>3</th>\n",
              "      <td>Esse restaurante é o melhor de todos que já fui, custo beneficio ok, e comida surreais de gostosas. A sobremesa naked de ninho ganhou meu coração, já fui 4 vezes e voltaria mais umas mil.</td>\n",
              "    </tr>\n",
              "    <tr>\n",
              "      <th>4</th>\n",
              "      <td>restaurante muito movimentado, com muitas comemorações. Pratos fartos e gostosos. Bom preço. Staff atencioso e simpático.</td>\n",
              "    </tr>\n",
              "    <tr>\n",
              "      <th>5</th>\n",
              "      <td>Pela décima primeira vez que vou a Natal, provavelmente é a centésima vez que frequento o restaurante e continua com a mesma excelência ! Funcionários atenciosos, comida extremamente saborosa, preço mais do que justo ! Estão de parabéns!</td>\n",
              "    </tr>\n",
              "  </tbody>\n",
              "</table>\n",
              "</div><br><label><b>dtype:</b> object</label>"
            ]
          },
          "metadata": {},
          "execution_count": 94
        }
      ],
      "source": [
        "dados.head()"
      ]
    },
    {
      "cell_type": "code",
      "execution_count": null,
      "metadata": {
        "colab": {
          "base_uri": "https://localhost:8080/",
          "height": 362
        },
        "id": "24OSNn3180tV",
        "outputId": "38575f65-d51c-4f65-8804-9eba494b53a8"
      },
      "outputs": [
        {
          "output_type": "execute_result",
          "data": {
            "text/plain": [
              "46                                                                      Comida boa, preço camarada (camarão p/2ps R$120) e ambiente muito legal.  Minha comida preferida é a porção de camarão com gergelim Em Natal são 2 restaurantes da mesma rede, ficam pertinho um de outro, na Ponta Negra, tem que ir nos 2\n",
              "47                                                                                                                                                                                     RESTAURANTE MARAVILHOSO. CONFORTO, QUALIDADE E ATENDIMENTO DE EXCELÊNCIA. SUPER INDICO PARA QUALQUER EVENTO OU ÉPOCA DO ANO.\n",
              "48    Restaurante muito bonito, imponente e com cardápio variado. Pratos muito bem servidos e preço melhor ainda. Porém como é grande, o barulho também é. Excelente para reunir família e amigos, mas para um casal que procura um ambiente mais calmo e intimista não recomendo. Fora isso o restaurante é ótimo!\n",
              "49                                                                                                                                                                                    Comida e ambientes maravilhosos! Mas o negócio é chegar cedo porque fica muuuuito cheio. Mas vale muito a pena a experiência!\n",
              "50                                                                                                                                                                          Atendimento impecável, ambiente agradabilíssimo e comida incrível, melhor restaurante de Natal. O tempo de espera é o prazo um drinque.\n",
              "Name: Comentarios, dtype: object"
            ],
            "text/html": [
              "<div>\n",
              "<style scoped>\n",
              "    .dataframe tbody tr th:only-of-type {\n",
              "        vertical-align: middle;\n",
              "    }\n",
              "\n",
              "    .dataframe tbody tr th {\n",
              "        vertical-align: top;\n",
              "    }\n",
              "\n",
              "    .dataframe thead th {\n",
              "        text-align: right;\n",
              "    }\n",
              "</style>\n",
              "<table border=\"1\" class=\"dataframe\">\n",
              "  <thead>\n",
              "    <tr style=\"text-align: right;\">\n",
              "      <th></th>\n",
              "      <th>Comentarios</th>\n",
              "    </tr>\n",
              "  </thead>\n",
              "  <tbody>\n",
              "    <tr>\n",
              "      <th>46</th>\n",
              "      <td>Comida boa, preço camarada (camarão p/2ps R$120) e ambiente muito legal.  Minha comida preferida é a porção de camarão com gergelim Em Natal são 2 restaurantes da mesma rede, ficam pertinho um de outro, na Ponta Negra, tem que ir nos 2</td>\n",
              "    </tr>\n",
              "    <tr>\n",
              "      <th>47</th>\n",
              "      <td>RESTAURANTE MARAVILHOSO. CONFORTO, QUALIDADE E ATENDIMENTO DE EXCELÊNCIA. SUPER INDICO PARA QUALQUER EVENTO OU ÉPOCA DO ANO.</td>\n",
              "    </tr>\n",
              "    <tr>\n",
              "      <th>48</th>\n",
              "      <td>Restaurante muito bonito, imponente e com cardápio variado. Pratos muito bem servidos e preço melhor ainda. Porém como é grande, o barulho também é. Excelente para reunir família e amigos, mas para um casal que procura um ambiente mais calmo e intimista não recomendo. Fora isso o restaurante é ótimo!</td>\n",
              "    </tr>\n",
              "    <tr>\n",
              "      <th>49</th>\n",
              "      <td>Comida e ambientes maravilhosos! Mas o negócio é chegar cedo porque fica muuuuito cheio. Mas vale muito a pena a experiência!</td>\n",
              "    </tr>\n",
              "    <tr>\n",
              "      <th>50</th>\n",
              "      <td>Atendimento impecável, ambiente agradabilíssimo e comida incrível, melhor restaurante de Natal. O tempo de espera é o prazo um drinque.</td>\n",
              "    </tr>\n",
              "  </tbody>\n",
              "</table>\n",
              "</div><br><label><b>dtype:</b> object</label>"
            ]
          },
          "metadata": {},
          "execution_count": 95
        }
      ],
      "source": [
        "dados.tail()"
      ]
    },
    {
      "cell_type": "code",
      "execution_count": null,
      "metadata": {
        "colab": {
          "base_uri": "https://localhost:8080/",
          "height": 902
        },
        "id": "laZ2fR84Z3Qu",
        "outputId": "1f4b29dc-b831-436b-8af7-c4757e7947ae"
      },
      "outputs": [
        {
          "output_type": "stream",
          "name": "stdout",
          "text": [
            "1:5\n",
            "2:5\n",
            "3:5\n",
            "4:4\n",
            "5:5\n",
            "6:4\n",
            "7:5\n",
            "8:5\n",
            "9:4\n",
            "10:5\n",
            "11:5\n",
            "12:4\n",
            "13:5\n",
            "14:5\n",
            "15:5\n",
            "16:4\n",
            "17:4\n",
            "18:5\n",
            "19:5\n",
            "20:5\n",
            "21:5\n",
            "22:5\n",
            "23:5\n",
            "24:4\n",
            "25:5\n",
            "26:5\n",
            "27:5\n",
            "28:5\n",
            "29:3\n",
            "30:5\n",
            "31:5\n",
            "32:5\n",
            "33:5\n",
            "34:1\n",
            "35:3\n",
            "36:2\n",
            "37:5\n",
            "38:2\n",
            "39:5\n",
            "40:5\n",
            "41:5\n",
            "42:5\n",
            "43:5\n",
            "44:5\n",
            "45:3\n",
            "46:5\n",
            "47:5\n",
            "48:4\n",
            "49:5\n",
            "50:5\n",
            "\n"
          ]
        }
      ],
      "source": [
        "try:\n",
        "    prompt = f\"Aqui está um pequeno trecho do meu banco de dados:\\n{dados.to_string()}\\nAgora tente adivinhar a nota dada pelos clientes dos comentarios de 1 a 5 estrelas, mande sua avaliaçao sem explicação, apenas com a adivinhação, e que esteja formatado dessa maneira, apenas utilizando numeros inteiros, sem palavars: indice:quantidade de estrelas\"\n",
        "    response = chat.send_message(prompt)\n",
        "    print(response.text)\n",
        "\n",
        "    time.sleep(10)\n",
        "except:\n",
        "    print(\"Gemini fora do ar\")"
      ]
    },
    {
      "cell_type": "code",
      "execution_count": null,
      "metadata": {
        "id": "dtk0yEELEgmP",
        "colab": {
          "base_uri": "https://localhost:8080/",
          "height": 87
        },
        "outputId": "3c06654d-2632-41cd-c8c2-e96cbf7f9c29"
      },
      "outputs": [
        {
          "output_type": "execute_result",
          "data": {
            "text/plain": [
              "'prompt = input(\"Prompt: \")\\nprint(\\'\\n\\')\\n\\nwhile prompt != \"fim\":\\n    try:\\n        response = chat.send_message(prompt)\\n        print(response.text)\\n        time.sleep(5)\\n\\n        prompt = input(\"Prompt: \")\\n        print(\\'\\n\\')\\n    except:\\n        print(\"Uso exagerado do Gemini, aguarde um momento\")\\n        time.sleep(360)'"
            ],
            "application/vnd.google.colaboratory.intrinsic+json": {
              "type": "string"
            }
          },
          "metadata": {},
          "execution_count": 97
        }
      ],
      "source": [
        "'''prompt = input(\"Prompt: \")\n",
        "print('\\n')\n",
        "\n",
        "while prompt != \"fim\":\n",
        "    try:\n",
        "        response = chat.send_message(prompt)\n",
        "        print(response.text)\n",
        "        time.sleep(5)\n",
        "\n",
        "        prompt = input(\"Prompt: \")\n",
        "        print('\\n')\n",
        "    except:\n",
        "        print(\"Uso exagerado do Gemini, aguarde um momento\")\n",
        "        time.sleep(360)'''"
      ]
    },
    {
      "cell_type": "code",
      "source": [
        "gemilist = (response.text).split(\"\\n\")\n",
        "gemilist = gemilist[:-1]\n",
        "gemilist = [item.split(\":\") for item in gemilist]\n",
        "gemilist"
      ],
      "metadata": {
        "colab": {
          "base_uri": "https://localhost:8080/"
        },
        "id": "sa5FJHFsfbgb",
        "outputId": "24abdd5b-ce56-4e10-cb80-eed861843a44"
      },
      "execution_count": null,
      "outputs": [
        {
          "output_type": "execute_result",
          "data": {
            "text/plain": [
              "[['1', '5'],\n",
              " ['2', '5'],\n",
              " ['3', '5'],\n",
              " ['4', '4'],\n",
              " ['5', '5'],\n",
              " ['6', '4'],\n",
              " ['7', '5'],\n",
              " ['8', '5'],\n",
              " ['9', '4'],\n",
              " ['10', '5'],\n",
              " ['11', '5'],\n",
              " ['12', '4'],\n",
              " ['13', '5'],\n",
              " ['14', '5'],\n",
              " ['15', '5'],\n",
              " ['16', '4'],\n",
              " ['17', '4'],\n",
              " ['18', '5'],\n",
              " ['19', '5'],\n",
              " ['20', '5'],\n",
              " ['21', '5'],\n",
              " ['22', '5'],\n",
              " ['23', '5'],\n",
              " ['24', '4'],\n",
              " ['25', '5'],\n",
              " ['26', '5'],\n",
              " ['27', '5'],\n",
              " ['28', '5'],\n",
              " ['29', '3'],\n",
              " ['30', '5'],\n",
              " ['31', '5'],\n",
              " ['32', '5'],\n",
              " ['33', '5'],\n",
              " ['34', '1'],\n",
              " ['35', '3'],\n",
              " ['36', '2'],\n",
              " ['37', '5'],\n",
              " ['38', '2'],\n",
              " ['39', '5'],\n",
              " ['40', '5'],\n",
              " ['41', '5'],\n",
              " ['42', '5'],\n",
              " ['43', '5'],\n",
              " ['44', '5'],\n",
              " ['45', '3'],\n",
              " ['46', '5'],\n",
              " ['47', '5'],\n",
              " ['48', '4'],\n",
              " ['49', '5'],\n",
              " ['50', '5']]"
            ]
          },
          "metadata": {},
          "execution_count": 98
        }
      ]
    },
    {
      "cell_type": "code",
      "source": [
        "for i in range(len(gemilist)):\n",
        "    import re\n",
        "    gemilist[i][1] = re.sub(r\"\\bestrela[s]?\\b\", \"\", gemilist[i][1])\n",
        "    gemilist[i][1] = (gemilist[i][1]).replace(\" \",\"\")\n",
        "gemilist"
      ],
      "metadata": {
        "colab": {
          "base_uri": "https://localhost:8080/"
        },
        "id": "f7q161uM0dtF",
        "outputId": "8655e02b-3e2b-4fff-9568-9e3971cc07fa"
      },
      "execution_count": null,
      "outputs": [
        {
          "output_type": "execute_result",
          "data": {
            "text/plain": [
              "[['1', '5'],\n",
              " ['2', '5'],\n",
              " ['3', '5'],\n",
              " ['4', '4'],\n",
              " ['5', '5'],\n",
              " ['6', '4'],\n",
              " ['7', '5'],\n",
              " ['8', '5'],\n",
              " ['9', '4'],\n",
              " ['10', '5'],\n",
              " ['11', '5'],\n",
              " ['12', '4'],\n",
              " ['13', '5'],\n",
              " ['14', '5'],\n",
              " ['15', '5'],\n",
              " ['16', '4'],\n",
              " ['17', '4'],\n",
              " ['18', '5'],\n",
              " ['19', '5'],\n",
              " ['20', '5'],\n",
              " ['21', '5'],\n",
              " ['22', '5'],\n",
              " ['23', '5'],\n",
              " ['24', '4'],\n",
              " ['25', '5'],\n",
              " ['26', '5'],\n",
              " ['27', '5'],\n",
              " ['28', '5'],\n",
              " ['29', '3'],\n",
              " ['30', '5'],\n",
              " ['31', '5'],\n",
              " ['32', '5'],\n",
              " ['33', '5'],\n",
              " ['34', '1'],\n",
              " ['35', '3'],\n",
              " ['36', '2'],\n",
              " ['37', '5'],\n",
              " ['38', '2'],\n",
              " ['39', '5'],\n",
              " ['40', '5'],\n",
              " ['41', '5'],\n",
              " ['42', '5'],\n",
              " ['43', '5'],\n",
              " ['44', '5'],\n",
              " ['45', '3'],\n",
              " ['46', '5'],\n",
              " ['47', '5'],\n",
              " ['48', '4'],\n",
              " ['49', '5'],\n",
              " ['50', '5']]"
            ]
          },
          "metadata": {},
          "execution_count": 99
        }
      ]
    },
    {
      "cell_type": "code",
      "source": [
        "caminho = \"/content/drive/MyDrive/Machine Learning Project/csv_folder/camaroes_gemini_stars.csv\"\n",
        "cabecalho = [\"Número do Comentário\", \"Estrelas Gemini\"]"
      ],
      "metadata": {
        "id": "PNXKaSzqwwDh"
      },
      "execution_count": null,
      "outputs": []
    },
    {
      "cell_type": "code",
      "source": [
        "def safe_convert(value):\n",
        "    try:\n",
        "        return int(value)\n",
        "    except ValueError:\n",
        "        try:\n",
        "            return float(value)\n",
        "        except ValueError:\n",
        "            return value"
      ],
      "metadata": {
        "id": "pQpAJP5t1k2V"
      },
      "execution_count": null,
      "outputs": []
    },
    {
      "cell_type": "code",
      "source": [
        "listarquivo = []\n",
        "try:\n",
        "    with open(caminho, \"r\") as arquivo:\n",
        "        reader = csv.reader(arquivo)\n",
        "        next(reader, None)\n",
        "        listarquivo = [[safe_convert(x) for x in row] for row in reader]\n",
        "except FileNotFoundError:\n",
        "    listarquivo = []"
      ],
      "metadata": {
        "id": "92ob1CaSnITZ"
      },
      "execution_count": null,
      "outputs": []
    },
    {
      "cell_type": "code",
      "source": [
        "# Lista do conteudo do arquivo:\n",
        "listarquivo = [[int(x) if isinstance(x, str) and x.isdigit() else float(x) if isinstance(x, str) and x.replace('.', '', 1).isdigit() else x for x in row] for row in listarquivo]\n",
        "# Numeros que já existem na lista do arquivo:\n",
        "existing_comment_numbers = [int(row[0]) for row in listarquivo if isinstance(row[0], (int, float))]\n",
        "# Conteudo novo analisado pelo Gemini:\n",
        "gemilist = [[int(x) if isinstance(x, str) and x.isdigit() else float(x) if isinstance(x, str) and x.replace('.', '', 1).isdigit() else x for x in row] for row in gemilist]\n",
        "# Conteudo do gemini filtrado dos itens que já tem no arquivo:\n",
        "gemilist_filtered = [row for row in gemilist if int(row[0]) not in existing_comment_numbers]\n",
        "# Adiciona o conteudo filtrado no arquivo\n",
        "if gemilist_filtered:\n",
        "    with open(caminho, \"a\", newline='') as arquivo:\n",
        "        writer = csv.writer(arquivo)\n",
        "        writer.writerows(gemilist_filtered)"
      ],
      "metadata": {
        "id": "ZIc_H0a2wdGy"
      },
      "execution_count": null,
      "outputs": []
    },
    {
      "cell_type": "code",
      "source": [
        "try:\n",
        "    with open(caminho, \"r\") as arquivo:\n",
        "        reader = csv.reader(arquivo)\n",
        "        next(reader, None)\n",
        "        dados = list(reader)\n",
        "except FileNotFoundError:\n",
        "    dados = []\n",
        "\n",
        "dados.sort(key=lambda row: int(row[0]))\n",
        "\n",
        "with open(caminho, \"w\", newline='') as arquivo:\n",
        "    writer = csv.writer(arquivo)\n",
        "    writer.writerow([\"Número do Comentário\", \"Estrelas Gemini\"])\n",
        "    writer.writerows(dados)"
      ],
      "metadata": {
        "id": "FWa383Pf4NzI"
      },
      "execution_count": null,
      "outputs": []
    }
  ],
  "metadata": {
    "colab": {
      "provenance": []
    },
    "kernelspec": {
      "display_name": "Python 3",
      "name": "python3"
    },
    "language_info": {
      "name": "python"
    }
  },
  "nbformat": 4,
  "nbformat_minor": 0
}